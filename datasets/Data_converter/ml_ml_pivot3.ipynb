{
 "cells": [
  {
   "cell_type": "code",
   "execution_count": 2,
   "id": "d0b24940-7839-487a-b918-85e46f0050a3",
   "metadata": {},
   "outputs": [
    {
     "name": "stderr",
     "output_type": "stream",
     "text": [
      "/tmp/ipykernel_227/4086727462.py:4: ParserWarning: Falling back to the 'python' engine because the 'c' engine does not support regex separators (separators > 1 char and different from '\\s+' are interpreted as regex); you can avoid this warning by specifying engine='python'.\n",
      "  ratings = pd.read_csv('./ml-m1_raw.dat', sep='::', header=None)\n"
     ]
    }
   ],
   "source": [
    "import pandas as pd\n",
    "\n",
    "# BEGIN: Read ratings.dat file\n",
    "ratings = pd.read_csv('./ml-m1_raw.dat', sep='::', header=None)\n",
    "# END: Read ratings.dat file"
   ]
  },
  {
   "cell_type": "code",
   "execution_count": 37,
   "id": "4f7545ca-35ec-49a9-8d04-08d94577b375",
   "metadata": {
    "tags": []
   },
   "outputs": [],
   "source": [
    "user = ratings[0]\n",
    "item = ratings[1]\n",
    "rating = ratings[2]"
   ]
  },
  {
   "cell_type": "code",
   "execution_count": 44,
   "id": "56e74456-e6db-47b9-9bb3-cce228280ddb",
   "metadata": {
    "tags": []
   },
   "outputs": [
    {
     "name": "stdout",
     "output_type": "stream",
     "text": [
      "3706\n"
     ]
    }
   ],
   "source": [
    "print(len(set(user).intersection(set(item))))"
   ]
  },
  {
   "cell_type": "code",
   "execution_count": 47,
   "id": "b769ec8f-8971-451f-af82-dc5971b6ecc8",
   "metadata": {
    "tags": []
   },
   "outputs": [
    {
     "name": "stdout",
     "output_type": "stream",
     "text": [
      "6040 1\n"
     ]
    }
   ],
   "source": [
    "print(max(user), min(user))"
   ]
  },
  {
   "cell_type": "code",
   "execution_count": 48,
   "id": "dfa7fae7-2bc0-4cac-afc2-558e818f4e64",
   "metadata": {
    "tags": []
   },
   "outputs": [
    {
     "data": {
      "text/plain": [
       "(3952, 1)"
      ]
     },
     "execution_count": 48,
     "metadata": {},
     "output_type": "execute_result"
    }
   ],
   "source": [
    "max(item), min(item)"
   ]
  },
  {
   "cell_type": "code",
   "execution_count": 49,
   "id": "6bf00dd8-d20c-42dc-8089-8179bfa748cf",
   "metadata": {
    "tags": []
   },
   "outputs": [],
   "source": [
    "item_dict = {}\n",
    "user_dict = {}"
   ]
  },
  {
   "cell_type": "code",
   "execution_count": 51,
   "id": "8eac5f98-90fe-4e8a-b9f7-bd24600a24fd",
   "metadata": {
    "tags": []
   },
   "outputs": [],
   "source": [
    "pos = 0\n",
    "neg = 0\n",
    "with open('output.tsv', 'w') as file:\n",
    "    for i in range(len(item)):\n",
    "        if item[i] not in item_dict:\n",
    "            item_dict[item[i]] = len(item_dict)\n",
    "        if user[i] not in user_dict:\n",
    "            user_dict[user[i]] = len(user_dict)\n",
    "        if rating[i] >= 3 :\n",
    "            temp_rate = 1\n",
    "            pos += 1\n",
    "        else:\n",
    "            temp_rate = -1\n",
    "            neg += 1\n",
    "        file.write(f'{item_dict[item[i]]}\\t{user_dict[user[i]]}\\t{temp_rate}\\n')\n",
    "    \n",
    "        "
   ]
  },
  {
   "cell_type": "code",
   "execution_count": 53,
   "id": "1304f990-1ae8-459c-a404-703d92b29ba3",
   "metadata": {
    "tags": []
   },
   "outputs": [
    {
     "data": {
      "text/plain": [
       "1000209"
      ]
     },
     "execution_count": 53,
     "metadata": {},
     "output_type": "execute_result"
    }
   ],
   "source": [
    "len(ratings)"
   ]
  },
  {
   "cell_type": "code",
   "execution_count": 55,
   "id": "7beb025d-0f4b-4ada-85f9-c993455c56ae",
   "metadata": {
    "tags": []
   },
   "outputs": [
    {
     "data": {
      "text/plain": [
       "1000209"
      ]
     },
     "execution_count": 55,
     "metadata": {},
     "output_type": "execute_result"
    }
   ],
   "source": [
    "pos+neg"
   ]
  },
  {
   "cell_type": "code",
   "execution_count": 78,
   "id": "1e3baf67-5204-4753-b7a9-38f5642bbe9b",
   "metadata": {
    "tags": []
   },
   "outputs": [],
   "source": [
    "ratings = pd.read_csv('../ml-1m.tsv', sep='\\t', header=None)"
   ]
  },
  {
   "cell_type": "code",
   "execution_count": 79,
   "id": "f3016953-fc1a-4053-ba80-a3e05b4b6c63",
   "metadata": {
    "tags": []
   },
   "outputs": [
    {
     "data": {
      "text/plain": [
       "(0, 6039)"
      ]
     },
     "execution_count": 79,
     "metadata": {},
     "output_type": "execute_result"
    }
   ],
   "source": [
    "min(ratings[0]), max(ratings[0])"
   ]
  },
  {
   "cell_type": "code",
   "execution_count": 80,
   "id": "5b8a0a65-be9e-4cf1-96aa-8854759bb28f",
   "metadata": {
    "tags": []
   },
   "outputs": [
    {
     "data": {
      "text/plain": [
       "(0, 3951)"
      ]
     },
     "execution_count": 80,
     "metadata": {},
     "output_type": "execute_result"
    }
   ],
   "source": [
    "min(ratings[1]), max(ratings[1])"
   ]
  },
  {
   "cell_type": "code",
   "execution_count": 81,
   "id": "a9cb60e0-2ac6-42a6-b261-8b99c1b2c855",
   "metadata": {
    "tags": []
   },
   "outputs": [
    {
     "data": {
      "text/plain": [
       "1000209"
      ]
     },
     "execution_count": 81,
     "metadata": {},
     "output_type": "execute_result"
    }
   ],
   "source": [
    "len(ratings)"
   ]
  },
  {
   "cell_type": "code",
   "execution_count": 74,
   "id": "a7866a20-061d-431c-aacb-3ed12cfd6d3e",
   "metadata": {
    "tags": []
   },
   "outputs": [],
   "source": [
    "ratings = pd.read_csv('../ml-1m_pivot3.tsv', sep='\\t', header=None)"
   ]
  },
  {
   "cell_type": "code",
   "execution_count": 75,
   "id": "f3ccfdd5-f63d-4053-b2ac-cb7f929c2746",
   "metadata": {
    "tags": []
   },
   "outputs": [
    {
     "data": {
      "text/plain": [
       "(0, 3705)"
      ]
     },
     "execution_count": 75,
     "metadata": {},
     "output_type": "execute_result"
    }
   ],
   "source": [
    "min(ratings[0]), max(ratings[0])"
   ]
  },
  {
   "cell_type": "code",
   "execution_count": 76,
   "id": "9f9b6628-4ed0-43b3-adfb-4a8d958f3864",
   "metadata": {
    "tags": []
   },
   "outputs": [
    {
     "data": {
      "text/plain": [
       "(0, 6039)"
      ]
     },
     "execution_count": 76,
     "metadata": {},
     "output_type": "execute_result"
    }
   ],
   "source": [
    "min(ratings[1]), max(ratings[1])"
   ]
  },
  {
   "cell_type": "code",
   "execution_count": 77,
   "id": "e9d546c2-ae9f-443b-9cca-a885baecda8f",
   "metadata": {
    "tags": []
   },
   "outputs": [
    {
     "data": {
      "text/plain": [
       "1000209"
      ]
     },
     "execution_count": 77,
     "metadata": {},
     "output_type": "execute_result"
    }
   ],
   "source": [
    "len(ratings)"
   ]
  },
  {
   "cell_type": "code",
   "execution_count": null,
   "id": "ef36d5c4-6edf-4446-9198-398f851de62e",
   "metadata": {},
   "outputs": [],
   "source": []
  }
 ],
 "metadata": {
  "kernelspec": {
   "display_name": "Python 3 (ipykernel)",
   "language": "python",
   "name": "python3"
  },
  "language_info": {
   "codemirror_mode": {
    "name": "ipython",
    "version": 3
   },
   "file_extension": ".py",
   "mimetype": "text/x-python",
   "name": "python",
   "nbconvert_exporter": "python",
   "pygments_lexer": "ipython3",
   "version": "3.11.6"
  }
 },
 "nbformat": 4,
 "nbformat_minor": 5
}
